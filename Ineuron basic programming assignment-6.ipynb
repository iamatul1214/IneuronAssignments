{
 "cells": [
  {
   "cell_type": "markdown",
   "metadata": {},
   "source": [
    "### 1. Write a Python Program to Display Fibonacci Sequence Using Recursion?"
   ]
  },
  {
   "cell_type": "code",
   "execution_count": 7,
   "metadata": {},
   "outputs": [
    {
     "name": "stdout",
     "output_type": "stream",
     "text": [
      "Enter the number5\n",
      "0\n",
      "1\n",
      "1\n",
      "2\n",
      "3\n"
     ]
    }
   ],
   "source": [
    "def fibonac(limit):\n",
    "    if limit<=1:\n",
    "        return limit\n",
    "    else:\n",
    "        return fibonac(limit-1) + fibonac(limit-2)\n",
    "limit=int(input(\"Enter the number\"))\n",
    "for i in range(limit):\n",
    "    print(fibonac(i))\n",
    "    "
   ]
  },
  {
   "cell_type": "markdown",
   "metadata": {},
   "source": [
    "### 2. Write a Python Program to Find Factorial of Number Using Recursion?"
   ]
  },
  {
   "cell_type": "code",
   "execution_count": 3,
   "metadata": {},
   "outputs": [
    {
     "name": "stdout",
     "output_type": "stream",
     "text": [
      "Enter the number5\n"
     ]
    },
    {
     "data": {
      "text/plain": [
       "120"
      ]
     },
     "execution_count": 3,
     "metadata": {},
     "output_type": "execute_result"
    }
   ],
   "source": [
    "def fact(num):\n",
    "    if num ==0 or num==1:\n",
    "        return 1\n",
    "    else:\n",
    "        return num*fact(num-1)\n",
    "num=int(input(\"Enter the number\"))\n",
    "fact(num)"
   ]
  },
  {
   "cell_type": "markdown",
   "metadata": {},
   "source": [
    "### 3. Write a Python Program to calculate your Body Mass Index?"
   ]
  },
  {
   "cell_type": "code",
   "execution_count": 22,
   "metadata": {},
   "outputs": [
    {
     "name": "stdout",
     "output_type": "stream",
     "text": [
      "Enter hieght in meteres1.8\n",
      "Enter weight in kgs77\n"
     ]
    },
    {
     "data": {
      "text/plain": [
       "'Your BMI is 23.77 and you are healthy'"
      ]
     },
     "execution_count": 22,
     "metadata": {},
     "output_type": "execute_result"
    }
   ],
   "source": [
    "def calculateBMI(height,weight):\n",
    "   \n",
    "    bmi=round(weight/(height*height),2)\n",
    "    if bmi > 25.0:\n",
    "        return \"Your BMI is {0} and you are overweight\".format(bmi)\n",
    "    elif bmi >= 18.5 and bmi <= 24.9:\n",
    "         return \"Your BMI is {0} and you are healthy\".format(bmi)\n",
    "    else:\n",
    "         return \"Your BMI is {0} and you are underweight\".format(bmi)\n",
    "height=float(input(\"Enter hieght in meteres\"))\n",
    "weight=float(input(\"Enter weight in kgs\"))\n",
    "calculateBMI(height,weight)"
   ]
  },
  {
   "cell_type": "markdown",
   "metadata": {},
   "source": [
    "### 4. Write a Python Program to calculate the natural logarithm of any number?"
   ]
  },
  {
   "cell_type": "code",
   "execution_count": 24,
   "metadata": {},
   "outputs": [
    {
     "name": "stdout",
     "output_type": "stream",
     "text": [
      "Enter the natural number4\n",
      "1.3863\n"
     ]
    }
   ],
   "source": [
    "import math\n",
    "num=int(input(\"Enter the natural number\"))\n",
    "print(round(math.log(num),4))"
   ]
  },
  {
   "cell_type": "markdown",
   "metadata": {},
   "source": [
    "### 5. Write a Python Program for cube sum of first n natural numbers?"
   ]
  },
  {
   "cell_type": "code",
   "execution_count": 10,
   "metadata": {},
   "outputs": [
    {
     "name": "stdout",
     "output_type": "stream",
     "text": [
      "Enter the limit3\n"
     ]
    },
    {
     "data": {
      "text/plain": [
       "36"
      ]
     },
     "execution_count": 10,
     "metadata": {},
     "output_type": "execute_result"
    }
   ],
   "source": [
    "def cube_sum(num):\n",
    "    add=0\n",
    "    for i in range(1,num+1):\n",
    "        add=add+(i**3)\n",
    "    return add\n",
    "num=int(input(\"Enter the limit\"))\n",
    "cube_sum(num)"
   ]
  }
 ],
 "metadata": {
  "kernelspec": {
   "display_name": "Python 3",
   "language": "python",
   "name": "python3"
  },
  "language_info": {
   "codemirror_mode": {
    "name": "ipython",
    "version": 3
   },
   "file_extension": ".py",
   "mimetype": "text/x-python",
   "name": "python",
   "nbconvert_exporter": "python",
   "pygments_lexer": "ipython3",
   "version": "3.8.5"
  }
 },
 "nbformat": 4,
 "nbformat_minor": 4
}
