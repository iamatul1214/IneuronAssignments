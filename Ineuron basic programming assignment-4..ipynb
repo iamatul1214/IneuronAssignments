{
 "cells": [
  {
   "cell_type": "markdown",
   "metadata": {},
   "source": [
    "### 1. Write a Python Program to Find the Factorial of a Number?"
   ]
  },
  {
   "cell_type": "code",
   "execution_count": 2,
   "metadata": {},
   "outputs": [
    {
     "name": "stdout",
     "output_type": "stream",
     "text": [
      "Enter the number6\n"
     ]
    },
    {
     "data": {
      "text/plain": [
       "720"
      ]
     },
     "execution_count": 2,
     "metadata": {},
     "output_type": "execute_result"
    }
   ],
   "source": [
    "import math\n",
    "def factorial(num):\n",
    "    return(math.factorial(num))\n",
    "\n",
    "num=int(input(\"Enter the number\"))\n",
    "factorial(num)"
   ]
  },
  {
   "cell_type": "code",
   "execution_count": 6,
   "metadata": {},
   "outputs": [
    {
     "name": "stdout",
     "output_type": "stream",
     "text": [
      "Enter the number8\n"
     ]
    },
    {
     "data": {
      "text/plain": [
       "40320"
      ]
     },
     "execution_count": 6,
     "metadata": {},
     "output_type": "execute_result"
    }
   ],
   "source": [
    "##Another method\n",
    "\n",
    "def factorial1(num):\n",
    "    if num==0 or num==1:\n",
    "        return 1\n",
    "    else:\n",
    "        return num * factorial(num-1)\n",
    "num=int(input(\"Enter the number\"))\n",
    "factorial1(num)"
   ]
  },
  {
   "cell_type": "markdown",
   "metadata": {},
   "source": [
    "### 2. Write a python program to print table."
   ]
  },
  {
   "cell_type": "code",
   "execution_count": 6,
   "metadata": {},
   "outputs": [
    {
     "name": "stdout",
     "output_type": "stream",
     "text": [
      "Enter the number to retrieve its tables123456789\n"
     ]
    },
    {
     "data": {
      "text/plain": [
       "[123456789,\n",
       " 246913578,\n",
       " 370370367,\n",
       " 493827156,\n",
       " 617283945,\n",
       " 740740734,\n",
       " 864197523,\n",
       " 987654312,\n",
       " 1111111101,\n",
       " 1234567890]"
      ]
     },
     "execution_count": 6,
     "metadata": {},
     "output_type": "execute_result"
    }
   ],
   "source": [
    "def tables(num):\n",
    "    table=[]\n",
    "    for i in range(1,11):\n",
    "        table.append(num*i)\n",
    "    return table\n",
    "num=int(input(\"Enter the number to retrieve its tables\"))\n",
    "tables(num)\n",
    "        "
   ]
  },
  {
   "cell_type": "markdown",
   "metadata": {},
   "source": [
    "### 3. Write a Python Program to Print the Fibonacci sequence?"
   ]
  },
  {
   "cell_type": "code",
   "execution_count": 8,
   "metadata": {},
   "outputs": [
    {
     "name": "stdout",
     "output_type": "stream",
     "text": [
      "Enter the limit of the series10\n"
     ]
    },
    {
     "data": {
      "text/plain": [
       "[0, 1, 1, 2, 3, 5, 8, 13, 21, 34, 55, 89, 144]"
      ]
     },
     "execution_count": 8,
     "metadata": {},
     "output_type": "execute_result"
    }
   ],
   "source": [
    "def fibbonac(limit):\n",
    "    first,second=0,1\n",
    "    fibbo_series=[0,1]\n",
    "    for i in range(limit+1):\n",
    "        third=first+second\n",
    "        first=second\n",
    "        second=third\n",
    "        fibbo_series.append(third)\n",
    "    return fibbo_series\n",
    "\n",
    "limit=int(input(\"Enter the limit of the series\"))\n",
    "fibbonac(limit)\n",
    "\n",
    "        \n",
    "        "
   ]
  },
  {
   "cell_type": "markdown",
   "metadata": {},
   "source": [
    "### 4. Write a Python Program to Check Armstrong Number?\n"
   ]
  },
  {
   "cell_type": "code",
   "execution_count": 20,
   "metadata": {},
   "outputs": [
    {
     "name": "stdout",
     "output_type": "stream",
     "text": [
      "Enter the number to check407\n",
      "407 is an Armstrong numner\n"
     ]
    }
   ],
   "source": [
    "def checkArmstrong(num):\n",
    "    add=0\n",
    "    n=num\n",
    "    while(num>0):\n",
    "        r=num%10\n",
    "        add+=r**3\n",
    "        num//=10\n",
    "    if add == n:\n",
    "        print(\"{0} is an Armstrong numner\".format(n))\n",
    "       \n",
    "    else:\n",
    "        return \"{0} is not an Armstrong number\".format(n)\n",
    "num=int(input(\"Enter the number to check\"))\n",
    "checkArmstrong(num)"
   ]
  },
  {
   "cell_type": "markdown",
   "metadata": {},
   "source": [
    "### 5. Write a Python Program to Find Armstrong Number in an Interval?"
   ]
  },
  {
   "cell_type": "code",
   "execution_count": 27,
   "metadata": {},
   "outputs": [
    {
     "name": "stdout",
     "output_type": "stream",
     "text": [
      "Enter the lowest range1000\n",
      "Enter the highest range2000\n"
     ]
    },
    {
     "data": {
      "text/plain": [
       "[1634]"
      ]
     },
     "execution_count": 27,
     "metadata": {},
     "output_type": "execute_result"
    }
   ],
   "source": [
    "def checkArmstrongInRange(low,high):\n",
    "    armstrongNumbers=[]\n",
    "    for i in range(low,high):\n",
    "        power=len(str(i))\n",
    "        num=i\n",
    "        add=0\n",
    "        while(i>0):\n",
    "            r=i%10\n",
    "            add+=r**power\n",
    "            i//=10\n",
    "        if add==num: \n",
    "            armstrongNumbers.append(num)\n",
    "    return armstrongNumbers\n",
    "\n",
    "low=int(input(\"Enter the lowest range\"))\n",
    "high=int(input(\"Enter the highest range\"))\n",
    "checkArmstrongInRange(low,high)"
   ]
  },
  {
   "cell_type": "markdown",
   "metadata": {},
   "source": [
    "### 6. Write a Python Program to Find the Sum of Natural Numbers?"
   ]
  },
  {
   "cell_type": "code",
   "execution_count": 30,
   "metadata": {},
   "outputs": [
    {
     "name": "stdout",
     "output_type": "stream",
     "text": [
      "Enter the limit50\n"
     ]
    },
    {
     "data": {
      "text/plain": [
       "1275"
      ]
     },
     "execution_count": 30,
     "metadata": {},
     "output_type": "execute_result"
    }
   ],
   "source": [
    "def SumOfNaturalNos(limit):\n",
    "    s=0\n",
    "    for i in range(limit+1):\n",
    "        s+=i\n",
    "    return s\n",
    "\n",
    "limit=int(input(\"Enter the limit\"))\n",
    "SumOfNaturalNos(limit)"
   ]
  },
  {
   "cell_type": "code",
   "execution_count": null,
   "metadata": {},
   "outputs": [],
   "source": []
  }
 ],
 "metadata": {
  "kernelspec": {
   "display_name": "Python 3",
   "language": "python",
   "name": "python3"
  },
  "language_info": {
   "codemirror_mode": {
    "name": "ipython",
    "version": 3
   },
   "file_extension": ".py",
   "mimetype": "text/x-python",
   "name": "python",
   "nbconvert_exporter": "python",
   "pygments_lexer": "ipython3",
   "version": "3.8.5"
  }
 },
 "nbformat": 4,
 "nbformat_minor": 4
}
