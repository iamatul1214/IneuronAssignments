{
 "cells": [
  {
   "cell_type": "markdown",
   "metadata": {},
   "source": [
    "### 1. Write a Python Program to Find LCM?"
   ]
  },
  {
   "cell_type": "code",
   "execution_count": 25,
   "metadata": {},
   "outputs": [
    {
     "name": "stdout",
     "output_type": "stream",
     "text": [
      "Enter first number4\n",
      "Enter second number3\n"
     ]
    },
    {
     "data": {
      "text/plain": [
       "12"
      ]
     },
     "execution_count": 25,
     "metadata": {},
     "output_type": "execute_result"
    }
   ],
   "source": [
    "def lcm(num1,num2):\n",
    "    if num1> num2:\n",
    "        greater=num1\n",
    "    else:\n",
    "        greater=num2\n",
    "    while(True):\n",
    "        if((greater%num1==0) and (greater%num2==0)):\n",
    "            lcm=greater\n",
    "            break\n",
    "        greater+=1\n",
    "    return lcm\n",
    "\n",
    "num1=int(input(\"Enter first number\"))\n",
    "num2=int(input(\"Enter second number\"))\n",
    "lcm(num1,num2)"
   ]
  },
  {
   "cell_type": "markdown",
   "metadata": {},
   "source": [
    "### 2. Write a Python Program to Find HCF?"
   ]
  },
  {
   "cell_type": "code",
   "execution_count": 27,
   "metadata": {},
   "outputs": [
    {
     "name": "stdout",
     "output_type": "stream",
     "text": [
      "Enter first number50\n",
      "Enter second number45\n"
     ]
    },
    {
     "data": {
      "text/plain": [
       "5"
      ]
     },
     "execution_count": 27,
     "metadata": {},
     "output_type": "execute_result"
    }
   ],
   "source": [
    "def hcf(num1,num2):\n",
    "    if num1>num2:\n",
    "        smaller=num1\n",
    "    else:\n",
    "        smaller=num2\n",
    "    for i in range(1,smaller+1):\n",
    "        if((num1%i ==0) and (num2%i==0)):\n",
    "            hcf=i\n",
    "    return hcf\n",
    "num1=int(input(\"Enter first number\"))\n",
    "num2=int(input(\"Enter second number\"))\n",
    "hcf(num1,num2)\n"
   ]
  },
  {
   "cell_type": "markdown",
   "metadata": {},
   "source": [
    "### 3. Write a Python Program to Convert Decimal to Binary, Octal and Hexadecimal?"
   ]
  },
  {
   "cell_type": "code",
   "execution_count": 29,
   "metadata": {},
   "outputs": [
    {
     "name": "stdout",
     "output_type": "stream",
     "text": [
      "Enter the decimal number22\n",
      "Binary format of 22 is 0b10110\n",
      "Octal format of 22 is 0o26\n",
      "Hexadecimal format of 22 is 0x16\n"
     ]
    }
   ],
   "source": [
    "def decimalToBinary(num):\n",
    "    binary=[]\n",
    "    if (num>=1):\n",
    "        decimalToBinary(num//2)\n",
    "        print(num % 2)\n",
    "        \n",
    "def decimalToOctal(num):\n",
    "    binary=[]\n",
    "    if (num>=1):\n",
    "        decimalToBinary(num//8)\n",
    "        print(num % 8)\n",
    "        \n",
    "num=int(input(\"Enter the decimal number\"))\n",
    "print(\"Binary format of {0} is {1}\".format(num,bin(num)))\n",
    "print(\"Octal format of {0} is {1}\".format(num,oct(num)))\n",
    "print(\"Hexadecimal format of {0} is {1}\".format(num,hex(num)))\n"
   ]
  },
  {
   "cell_type": "markdown",
   "metadata": {},
   "source": [
    "### 4. Write a Python Program To Find ASCII value of a character?"
   ]
  },
  {
   "cell_type": "code",
   "execution_count": 22,
   "metadata": {},
   "outputs": [
    {
     "name": "stdout",
     "output_type": "stream",
     "text": [
      "Enter the charactert\n",
      "ASCII value of t is 116\n"
     ]
    }
   ],
   "source": [
    "char=str(input(\"Enter the character\"))\n",
    "print(\"ASCII value of {0} is {1}\".format(char,ord(char)))"
   ]
  },
  {
   "cell_type": "markdown",
   "metadata": {},
   "source": [
    "### 5. Write a Python Program to Make a Simple Calculator with 4 basic mathematical operations?"
   ]
  },
  {
   "cell_type": "code",
   "execution_count": 4,
   "metadata": {},
   "outputs": [
    {
     "name": "stdout",
     "output_type": "stream",
     "text": [
      "Enter the first number45\n",
      "Enter the second number5\n",
      "Enter your choice\n",
      " 1 for Addition\n",
      " 2 for Subtraction\n",
      " 3 for multiplication\n",
      " 4 for division3\n"
     ]
    },
    {
     "data": {
      "text/plain": [
       "225.0"
      ]
     },
     "execution_count": 4,
     "metadata": {},
     "output_type": "execute_result"
    }
   ],
   "source": [
    "def calculator(num1,num2,opt):\n",
    "    if opt == 1:\n",
    "        return num1 + num2\n",
    "    elif opt == 2:\n",
    "        return num1 - num2\n",
    "    elif opt == 3:\n",
    "        return num1 * num2\n",
    "    elif opt == 4:\n",
    "        return num1 // num2\n",
    "    else:\n",
    "        return \"{0} is not an valid input\".format(opt)\n",
    "    \n",
    "num1=float(input(\"Enter the first number\"))\n",
    "num2=float(input(\"Enter the second number\"))\n",
    "opt=int(input(\"Enter your choice\\n 1 for Addition\\n 2 for Subtraction\\n 3 for multiplication\\n 4 for division\"))\n",
    "calculator(num1,num2,opt)"
   ]
  },
  {
   "cell_type": "code",
   "execution_count": null,
   "metadata": {},
   "outputs": [],
   "source": []
  }
 ],
 "metadata": {
  "kernelspec": {
   "display_name": "Python 3",
   "language": "python",
   "name": "python3"
  },
  "language_info": {
   "codemirror_mode": {
    "name": "ipython",
    "version": 3
   },
   "file_extension": ".py",
   "mimetype": "text/x-python",
   "name": "python",
   "nbconvert_exporter": "python",
   "pygments_lexer": "ipython3",
   "version": "3.8.5"
  }
 },
 "nbformat": 4,
 "nbformat_minor": 4
}
