{
 "cells": [
  {
   "cell_type": "markdown",
   "metadata": {},
   "source": [
    "### 1. Write a Python program to check if the given number is a Disarium Number?"
   ]
  },
  {
   "cell_type": "code",
   "execution_count": 15,
   "metadata": {},
   "outputs": [
    {
     "name": "stdout",
     "output_type": "stream",
     "text": [
      "Enter the number100\n"
     ]
    },
    {
     "data": {
      "text/plain": [
       "'100 is not a disarium number'"
      ]
     },
     "execution_count": 15,
     "metadata": {},
     "output_type": "execute_result"
    }
   ],
   "source": [
    "def numlen(num):\n",
    "    lenNum=0\n",
    "    while(num!=0):\n",
    "        lenNum=lenNum+1\n",
    "        num=num//10\n",
    "    return lenNum\n",
    "\n",
    "def checkDisarium(num,length):\n",
    "    copy=num\n",
    "    summ=0\n",
    "    while(num!=0):\n",
    "        rem=num%10\n",
    "        summ=summ+(rem ** length)\n",
    "        length=length-1\n",
    "        num=num//10\n",
    "    if summ == copy:\n",
    "        return \"{0} is disarium number\".format(copy)\n",
    "    else:\n",
    "        return \"{0} is not a disarium number\".format(copy)\n",
    "num=int(input(\"Enter the number\"))\n",
    "length=numlen(num)\n",
    "checkDisarium(num,length)\n",
    "\n",
    "\n",
    "\n",
    "        "
   ]
  },
  {
   "cell_type": "markdown",
   "metadata": {},
   "source": [
    "### 2. Write a Python program to print all disarium numbers between 1 to 100?"
   ]
  },
  {
   "cell_type": "code",
   "execution_count": 14,
   "metadata": {},
   "outputs": [
    {
     "name": "stdout",
     "output_type": "stream",
     "text": [
      "1\n",
      "2\n",
      "3\n",
      "4\n",
      "5\n",
      "6\n",
      "7\n",
      "8\n",
      "9\n",
      "89\n"
     ]
    }
   ],
   "source": [
    "\n",
    "    \n",
    "def printDisarium(i):\n",
    "    num=i\n",
    "    copy=i\n",
    "    summ=0\n",
    "    lenNum=0\n",
    "    \n",
    "    while(num!=0):\n",
    "        lenNum=lenNum+1\n",
    "        num=num//10\n",
    "   \n",
    "    while(i>0):\n",
    "            rem=i%10\n",
    "            summ=summ+(rem ** lenNum)\n",
    "            lenNum=lenNum-1\n",
    "            i=i//10\n",
    "    if summ == copy:\n",
    "        print(copy)\n",
    "    else:\n",
    "        pass\n",
    "        \n",
    "for i in range(1,101):\n",
    "    printDisarium(i)\n",
    "    \n",
    "    \n",
    "    "
   ]
  },
  {
   "cell_type": "markdown",
   "metadata": {},
   "source": [
    "### 3. Write a Python program to check if the given number is Happy Number?"
   ]
  },
  {
   "cell_type": "code",
   "execution_count": 45,
   "metadata": {},
   "outputs": [
    {
     "name": "stdout",
     "output_type": "stream",
     "text": [
      "Enter the number82\n",
      "Happy number\n"
     ]
    }
   ],
   "source": [
    "def checkLength(num):\n",
    "    lenNum=0\n",
    "    while(num!=0):\n",
    "        rem=num%10\n",
    "        lenNum=lenNum+1\n",
    "        num=num//10\n",
    "    return lenNum\n",
    "def checkHappyNumber(num):\n",
    "    copy=num\n",
    "    sum=0\n",
    "    while(num!=0):\n",
    "        rem=num%10\n",
    "        sum=sum+(rem**2)\n",
    "        num=num//10\n",
    "    length=checkLength(sum)\n",
    "    if length>1:\n",
    "        checkHappyNumber(sum)\n",
    "    else:\n",
    "        if sum == 1:\n",
    "            print(\"Happy number\")\n",
    "            \n",
    "        elif sum !=1:\n",
    "            print(\"Not a happy number\")\n",
    "            \n",
    "num=int(input(\"Enter the number\"))\n",
    "checkHappyNumber(num)\n",
    "\n"
   ]
  },
  {
   "cell_type": "markdown",
   "metadata": {},
   "source": [
    "### 4. Write a Python program to print all happy numbers between 1 and 100?"
   ]
  },
  {
   "cell_type": "code",
   "execution_count": 69,
   "metadata": {},
   "outputs": [
    {
     "name": "stdout",
     "output_type": "stream",
     "text": [
      "1 is a Happy number\n",
      "7 is a Happy number\n",
      "10 is a Happy number\n",
      "13 is a Happy number\n",
      "19 is a Happy number\n",
      "23 is a Happy number\n",
      "28 is a Happy number\n",
      "31 is a Happy number\n",
      "32 is a Happy number\n",
      "44 is a Happy number\n",
      "49 is a Happy number\n",
      "68 is a Happy number\n",
      "70 is a Happy number\n",
      "79 is a Happy number\n",
      "82 is a Happy number\n",
      "86 is a Happy number\n",
      "91 is a Happy number\n",
      "94 is a Happy number\n",
      "97 is a Happy number\n",
      "100 is a Happy number\n"
     ]
    }
   ],
   "source": [
    "def checkLength(num):\n",
    "    lenNum=0\n",
    "    while(num!=0):\n",
    "        rem=num%10\n",
    "        lenNum=lenNum+1\n",
    "        num=num//10\n",
    "    return lenNum\n",
    "def checkHappyNumber(num,num1):\n",
    "    copy=num\n",
    "    sum=0\n",
    "    while(num!=0):\n",
    "        rem=num%10\n",
    "        sum=sum+(rem**2)\n",
    "        num=num//10\n",
    "    length=checkLength(sum)\n",
    "    if length>1:\n",
    "        checkHappyNumber(sum,num1)\n",
    "    else:\n",
    "        if sum == 1:\n",
    "            print(\"{0} is a Happy number\".format(num1))\n",
    "              \n",
    "        elif sum !=1:\n",
    "            pass\n",
    "           \n",
    "              \n",
    "            \n",
    "for i in range(1,101):\n",
    "#     checkHappyNumber(i)\n",
    "    checkHappyNumber(i,i)"
   ]
  },
  {
   "cell_type": "markdown",
   "metadata": {},
   "source": [
    "### 5. Write a Python program to determine whether the given number is a Harshad Number?"
   ]
  },
  {
   "cell_type": "code",
   "execution_count": 67,
   "metadata": {},
   "outputs": [
    {
     "name": "stdout",
     "output_type": "stream",
     "text": [
      "Enter the number50106\n"
     ]
    },
    {
     "data": {
      "text/plain": [
       "'50106 is Not a Harshad number'"
      ]
     },
     "execution_count": 67,
     "metadata": {},
     "output_type": "execute_result"
    }
   ],
   "source": [
    "def checkHarshadNumber(num):\n",
    "    sum=0\n",
    "    copy=num\n",
    "    while(num>0):\n",
    "        rem=num%10\n",
    "        sum+=rem\n",
    "        num=num//10\n",
    "    if copy % sum == 0:\n",
    "        return \"{0} is a Harshad number\".format(copy)\n",
    "    else:\n",
    "        return \"{0} is Not a Harshad number\".format(copy)\n",
    "\n",
    "num=int(input(\"Enter the number\"))\n",
    "checkHarshadNumber(num)\n",
    "# for i in range(10,101):\n",
    "#     x=checkHarshadNumber(i)\n",
    "#     print(x)\n"
   ]
  },
  {
   "cell_type": "markdown",
   "metadata": {},
   "source": [
    "### 6. Write a Python program to print all pronic numbers between 1 and 100?"
   ]
  },
  {
   "cell_type": "code",
   "execution_count": 75,
   "metadata": {},
   "outputs": [
    {
     "name": "stdout",
     "output_type": "stream",
     "text": [
      "2 is a pronic number\n",
      "6 is a pronic number\n",
      "12 is a pronic number\n",
      "20 is a pronic number\n",
      "30 is a pronic number\n",
      "42 is a pronic number\n",
      "56 is a pronic number\n",
      "72 is a pronic number\n",
      "90 is a pronic number\n"
     ]
    }
   ],
   "source": [
    "import math\n",
    "\n",
    "def checkPronic(num):\n",
    "    n=int(math.sqrt(num)) + 1\n",
    "    for i in range(0,n):\n",
    "            if (i * (i+1)) == num:\n",
    "                   return True\n",
    "            else:\n",
    "                pass\n",
    "\n",
    "for i in range(1,101):\n",
    "        x=checkPronic(i)\n",
    "        if x:\n",
    "            print(\"{0} is a pronic number\".format(i))\n",
    "                   \n",
    "                   "
   ]
  },
  {
   "cell_type": "code",
   "execution_count": null,
   "metadata": {},
   "outputs": [],
   "source": []
  }
 ],
 "metadata": {
  "kernelspec": {
   "display_name": "Python 3",
   "language": "python",
   "name": "python3"
  },
  "language_info": {
   "codemirror_mode": {
    "name": "ipython",
    "version": 3
   },
   "file_extension": ".py",
   "mimetype": "text/x-python",
   "name": "python",
   "nbconvert_exporter": "python",
   "pygments_lexer": "ipython3",
   "version": "3.8.5"
  }
 },
 "nbformat": 4,
 "nbformat_minor": 4
}
