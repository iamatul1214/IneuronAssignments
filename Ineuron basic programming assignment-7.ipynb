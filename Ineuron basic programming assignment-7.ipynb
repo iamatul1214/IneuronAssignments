{
 "cells": [
  {
   "cell_type": "markdown",
   "metadata": {},
   "source": [
    "### 1. Write a Python Program to find sum of array?"
   ]
  },
  {
   "cell_type": "code",
   "execution_count": 3,
   "metadata": {},
   "outputs": [
    {
     "name": "stdout",
     "output_type": "stream",
     "text": [
      "Enter the total elements count of the array3\n",
      "Enter the elements of the array1\n",
      "Enter the elements of the array2\n",
      "Enter the elements of the array3\n",
      "6\n"
     ]
    }
   ],
   "source": [
    "import array as arr\n",
    "limit=int(input(\"Enter the total elements count of the array\"))\n",
    "ar=arr.array=[]\n",
    "for i in range(limit):\n",
    "    a=int(input(\"Enter the elements of the array\"))\n",
    "    ar.append(a)\n",
    "s=0\n",
    "for i in range(limit):\n",
    "    s=s+ar[i]\n",
    "print(s)"
   ]
  },
  {
   "cell_type": "markdown",
   "metadata": {},
   "source": [
    "## 2. Write a Python Program to find largest element in an array?"
   ]
  },
  {
   "cell_type": "code",
   "execution_count": 14,
   "metadata": {},
   "outputs": [
    {
     "name": "stdout",
     "output_type": "stream",
     "text": [
      "Maximum element in the array=  88\n"
     ]
    }
   ],
   "source": [
    "\n",
    "a=arr.array('i',[10,45,12,43,12,67,88,9,11])\n",
    "size=len(a)\n",
    "max=a[0]\n",
    "for i in range(size):\n",
    "    if a[i]>max:\n",
    "        max=a[i]\n",
    "print(\"Maximum element in the array= \", max)"
   ]
  },
  {
   "cell_type": "markdown",
   "metadata": {},
   "source": [
    "### 3. Write a Python Program for array rotation?"
   ]
  },
  {
   "cell_type": "code",
   "execution_count": 4,
   "metadata": {},
   "outputs": [
    {
     "name": "stdout",
     "output_type": "stream",
     "text": [
      "Enter the total elements count of the array8\n",
      "Enter the elements of the array1\n",
      "Enter the elements of the array2\n",
      "Enter the elements of the array3\n",
      "Enter the elements of the array4\n",
      "Enter the elements of the array5\n",
      "Enter the elements of the array6\n",
      "Enter the elements of the array7\n",
      "Enter the elements of the array8\n",
      "Enter the elements of the array9\n",
      "Enter the number of rotations required4\n",
      "Arrary before rotation\n",
      "[1, 2, 3, 4, 5, 6, 7, 8, 9]\n",
      "[5, 6, 7, 8, 1, 2, 3, 4, 9]\n"
     ]
    }
   ],
   "source": [
    "limit=int(input(\"Enter the total elements count of the array\"))\n",
    "ar=arr.array=[]\n",
    "for i in range(limit+1):\n",
    "    a=int(input(\"Enter the elements of the array\"))\n",
    "    ar.append(a)\n",
    "n=int(input('Enter the number of rotations required'))\n",
    "print(\"Arrary before rotation\\n{0}\".format(ar))\n",
    "for i in range(n):\n",
    "    first=ar[0]\n",
    "    for i in range(limit-1):\n",
    "        ar[i]=ar[i+1]\n",
    "    ar[limit-1]=first\n",
    "    \n",
    "print(ar)\n",
    "    \n",
    "    \n",
    " "
   ]
  },
  {
   "cell_type": "markdown",
   "metadata": {},
   "source": [
    "\n",
    "### 4. Write a Python Program to Split the array and add the first part to the end?"
   ]
  },
  {
   "cell_type": "code",
   "execution_count": 6,
   "metadata": {},
   "outputs": [
    {
     "name": "stdout",
     "output_type": "stream",
     "text": [
      "Enter the total elements count of the array8\n",
      "Enter the elements of the array1\n",
      "Enter the elements of the array2\n",
      "Enter the elements of the array3\n",
      "Enter the elements of the array4\n",
      "Enter the elements of the array5\n",
      "Enter the elements of the array6\n",
      "Enter the elements of the array7\n",
      "Enter the elements of the array8\n",
      "Arrary before rotation\n",
      "[1, 2, 3, 4, 5, 6, 7, 8]\n",
      "[5, 6, 7, 8, 1, 2, 3, 4]\n"
     ]
    }
   ],
   "source": [
    "limit=int(input(\"Enter the total elements count of the array\"))\n",
    "ar=arr.array=[]\n",
    "for i in range(limit):\n",
    "    a=int(input(\"Enter the elements of the array\"))\n",
    "    ar.append(a)\n",
    "n=limit//2\n",
    "print(\"Arrary before rotation\\n{0}\".format(ar))\n",
    "for i in range(n):\n",
    "    first=ar[0]\n",
    "    for i in range(limit-1):\n",
    "        ar[i]=ar[i+1]\n",
    "    ar[limit-1]=first\n",
    "    \n",
    "print(ar)"
   ]
  },
  {
   "cell_type": "markdown",
   "metadata": {},
   "source": [
    "### 5. Write a Python Program to check if given array is Monotonic?"
   ]
  },
  {
   "cell_type": "code",
   "execution_count": 11,
   "metadata": {},
   "outputs": [
    {
     "name": "stdout",
     "output_type": "stream",
     "text": [
      "Enter the total elements count of the array5\n",
      "Enter the elements of the array1\n",
      "Enter the elements of the array2\n",
      "Enter the elements of the array3\n",
      "Enter the elements of the array2\n",
      "Enter the elements of the array4\n"
     ]
    },
    {
     "data": {
      "text/plain": [
       "'[1, 2, 3, 2, 4] Not a monotonic array'"
      ]
     },
     "execution_count": 11,
     "metadata": {},
     "output_type": "execute_result"
    }
   ],
   "source": [
    "##Monotonic array either decreses continously or increases continuously\n",
    "\n",
    "\n",
    "def check_Monotonous(a,limit):\n",
    "    if all(a[i]<=a[i+1] for i in range(limit-1)):\n",
    "        return \"Monotonic increasing array\"\n",
    "    elif all(a[i]>=a[i+1] for i in range(limit-1)):\n",
    "        return \"Monotonic decreasing array\"\n",
    "    else:\n",
    "        return \"{0} Not a monotonic array\".format(a)\n",
    "limit=int(input(\"Enter the total elements count of the array\"))\n",
    "ar=arr.array=[]\n",
    "for i in range(limit):\n",
    "    a=int(input(\"Enter the elements of the array\"))\n",
    "    ar.append(a)\n",
    "check_Monotonous(ar,limit)\n"
   ]
  },
  {
   "cell_type": "code",
   "execution_count": null,
   "metadata": {},
   "outputs": [],
   "source": []
  }
 ],
 "metadata": {
  "kernelspec": {
   "display_name": "Python 3",
   "language": "python",
   "name": "python3"
  },
  "language_info": {
   "codemirror_mode": {
    "name": "ipython",
    "version": 3
   },
   "file_extension": ".py",
   "mimetype": "text/x-python",
   "name": "python",
   "nbconvert_exporter": "python",
   "pygments_lexer": "ipython3",
   "version": "3.8.5"
  }
 },
 "nbformat": 4,
 "nbformat_minor": 4
}
