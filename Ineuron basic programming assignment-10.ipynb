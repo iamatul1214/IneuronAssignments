{
 "cells": [
  {
   "cell_type": "markdown",
   "metadata": {},
   "source": [
    "### Write a Python program to find sum of elements in list?"
   ]
  },
  {
   "cell_type": "code",
   "execution_count": 33,
   "metadata": {},
   "outputs": [
    {
     "name": "stdout",
     "output_type": "stream",
     "text": [
      "Enter the length of the string5\n",
      "Enter the 0 element1\n",
      "Enter the 1 element4\n",
      "Enter the 2 element3\n",
      "Enter the 3 element6\n",
      "Enter the 4 element0\n",
      "[1, 4, 3, 6, 0]\n"
     ]
    },
    {
     "ename": "TypeError",
     "evalue": "'int' object is not callable",
     "output_type": "error",
     "traceback": [
      "\u001b[1;31m---------------------------------------------------------------------------\u001b[0m",
      "\u001b[1;31mTypeError\u001b[0m                                 Traceback (most recent call last)",
      "\u001b[1;32m<ipython-input-33-d1df18884dcc>\u001b[0m in \u001b[0;36m<module>\u001b[1;34m\u001b[0m\n\u001b[0;32m     17\u001b[0m \u001b[0mprint\u001b[0m\u001b[1;33m(\u001b[0m\u001b[0mlist_input\u001b[0m\u001b[1;33m)\u001b[0m\u001b[1;33m\u001b[0m\u001b[1;33m\u001b[0m\u001b[0m\n\u001b[0;32m     18\u001b[0m \u001b[0msum\u001b[0m\u001b[1;33m=\u001b[0m\u001b[0mfindSum\u001b[0m\u001b[1;33m(\u001b[0m\u001b[0mlist_input\u001b[0m\u001b[1;33m)\u001b[0m\u001b[1;33m\u001b[0m\u001b[1;33m\u001b[0m\u001b[0m\n\u001b[1;32m---> 19\u001b[1;33m \u001b[0madd\u001b[0m\u001b[1;33m=\u001b[0m\u001b[0mfindSumusingInbuilt\u001b[0m\u001b[1;33m(\u001b[0m\u001b[0mlist_input\u001b[0m\u001b[1;33m)\u001b[0m\u001b[1;33m\u001b[0m\u001b[1;33m\u001b[0m\u001b[0m\n\u001b[0m\u001b[0;32m     20\u001b[0m \u001b[0mprint\u001b[0m\u001b[1;33m(\u001b[0m\u001b[1;34m\"Sum of the elements in the entered list = \"\u001b[0m\u001b[1;33m,\u001b[0m\u001b[0msum\u001b[0m\u001b[1;33m)\u001b[0m\u001b[1;33m\u001b[0m\u001b[1;33m\u001b[0m\u001b[0m\n\u001b[0;32m     21\u001b[0m \u001b[0mprint\u001b[0m\u001b[1;33m(\u001b[0m\u001b[1;34m\"Sum of the elements in the entered list by sum method = \"\u001b[0m\u001b[1;33m,\u001b[0m\u001b[0madd\u001b[0m\u001b[1;33m)\u001b[0m\u001b[1;33m\u001b[0m\u001b[1;33m\u001b[0m\u001b[0m\n",
      "\u001b[1;32m<ipython-input-33-d1df18884dcc>\u001b[0m in \u001b[0;36mfindSumusingInbuilt\u001b[1;34m(a)\u001b[0m\n\u001b[0;32m     13\u001b[0m     \u001b[1;32mreturn\u001b[0m \u001b[0mls\u001b[0m\u001b[1;33m\u001b[0m\u001b[1;33m\u001b[0m\u001b[0m\n\u001b[0;32m     14\u001b[0m \u001b[1;32mdef\u001b[0m \u001b[0mfindSumusingInbuilt\u001b[0m\u001b[1;33m(\u001b[0m\u001b[0ma\u001b[0m\u001b[1;33m)\u001b[0m\u001b[1;33m:\u001b[0m\u001b[1;33m\u001b[0m\u001b[1;33m\u001b[0m\u001b[0m\n\u001b[1;32m---> 15\u001b[1;33m     \u001b[1;32mreturn\u001b[0m \u001b[0msum\u001b[0m\u001b[1;33m(\u001b[0m\u001b[0ma\u001b[0m\u001b[1;33m)\u001b[0m\u001b[1;33m\u001b[0m\u001b[1;33m\u001b[0m\u001b[0m\n\u001b[0m\u001b[0;32m     16\u001b[0m \u001b[0mlist_input\u001b[0m\u001b[1;33m=\u001b[0m\u001b[0minputString\u001b[0m\u001b[1;33m(\u001b[0m\u001b[1;33m)\u001b[0m\u001b[1;33m\u001b[0m\u001b[1;33m\u001b[0m\u001b[0m\n\u001b[0;32m     17\u001b[0m \u001b[0mprint\u001b[0m\u001b[1;33m(\u001b[0m\u001b[0mlist_input\u001b[0m\u001b[1;33m)\u001b[0m\u001b[1;33m\u001b[0m\u001b[1;33m\u001b[0m\u001b[0m\n",
      "\u001b[1;31mTypeError\u001b[0m: 'int' object is not callable"
     ]
    }
   ],
   "source": [
    "def findSum(a):\n",
    "    sum=0\n",
    "    for i in a:\n",
    "        sum=sum+i\n",
    "    return sum\n",
    "def inputString():\n",
    "    len=0\n",
    "    ls=[]\n",
    "    len=int(input(\"Enter the length of the string\"))\n",
    "    for i in range(0,len):\n",
    "        ele=int(input(\"Enter the {0} element\".format(i)))\n",
    "        ls.append(ele)\n",
    "    return ls\n",
    "list_input=inputString()\n",
    "print(list_input)\n",
    "sum=findSum(list_input)\n",
    "\n",
    "print(\"Sum of the elements in the entered list = \",sum)\n",
    "\n",
    "    \n",
    "    "
   ]
  },
  {
   "cell_type": "markdown",
   "metadata": {},
   "source": [
    "# Write a Python program to Multiply all numbers in the list?"
   ]
  },
  {
   "cell_type": "code",
   "execution_count": 19,
   "metadata": {},
   "outputs": [
    {
     "name": "stdout",
     "output_type": "stream",
     "text": [
      "Enter the length of the string3\n",
      "Enter the 0 element10\n",
      "Enter the 1 element8\n",
      "Enter the 2 element2\n",
      "product of the elements in the entered list =  160\n"
     ]
    }
   ],
   "source": [
    "def findMul(a):\n",
    "    mul=1\n",
    "    for i in a:\n",
    "        mul=mul*i\n",
    "    return mul\n",
    "def inputString():\n",
    "    len=0\n",
    "    ls=[]\n",
    "    len=int(input(\"Enter the length of the string\"))\n",
    "    for i in range(0,len):\n",
    "        ele=int(input(\"Enter the {0} element\".format(i)))\n",
    "        ls.append(ele)\n",
    "    return ls\n",
    "\n",
    "list_input=inputString()\n",
    "mul=findMul(list_input)\n",
    "print(\"product of the elements in the entered list = \",mul)\n"
   ]
  },
  {
   "cell_type": "markdown",
   "metadata": {},
   "source": [
    "### Write a Python program to find smallest number in a list?"
   ]
  },
  {
   "cell_type": "code",
   "execution_count": 32,
   "metadata": {},
   "outputs": [
    {
     "name": "stdout",
     "output_type": "stream",
     "text": [
      "Enter the length of the string5\n",
      "Enter the 0 element3\n",
      "Enter the 1 element4\n",
      "Enter the 2 element9\n",
      "Enter the 3 element2\n",
      "Enter the 4 element8\n",
      "The smallest number in the list is =  2\n",
      "The smallest number in the list using inbuilt function is =  2\n",
      "The smallest number in the list using sort function is =  2\n"
     ]
    }
   ],
   "source": [
    "def findSmallest(a):\n",
    "    small=a[0]\n",
    "    for i in range(len(a)):\n",
    "        if a[i]<small:\n",
    "            small=a[i]\n",
    "    return small\n",
    "def inputString():\n",
    "    len=0\n",
    "    ls=[]\n",
    "    len=int(input(\"Enter the length of the string\"))\n",
    "    for i in range(0,len):\n",
    "        ele=int(input(\"Enter the {0} element\".format(i)))\n",
    "        ls.append(ele)\n",
    "    return ls\n",
    "def findSmallestUsingInbuilt(a):\n",
    "    return min(a)\n",
    "def findSmallestUsingSort(a):\n",
    "    a.sort()\n",
    "    return a[0]\n",
    "list_input=inputString()\n",
    "smallest=findSmallest(list_input)\n",
    "minimum=findSmallestUsingInbuilt(list_input)\n",
    "least=findSmallestUsingSort(list_input)\n",
    "print(\"The smallest number in the list is = \",smallest)\n",
    "print(\"The smallest number in the list using inbuilt function is = \",smallest)\n",
    "print(\"The smallest number in the list using sort function is = \",least)"
   ]
  },
  {
   "cell_type": "markdown",
   "metadata": {},
   "source": [
    "### 4. Write a Python program to find largest number in a list?"
   ]
  },
  {
   "cell_type": "code",
   "execution_count": 36,
   "metadata": {},
   "outputs": [
    {
     "name": "stdout",
     "output_type": "stream",
     "text": [
      "Enter the length of the string4\n",
      "Enter the 0 element3\n",
      "Enter the 1 element2\n",
      "Enter the 2 element6\n",
      "Enter the 3 element9\n",
      "The Largest number in the list is =  9\n",
      "The Largest number in the list using inbuilt function is =  9\n",
      "The Largest number in the list using sort function is =  9\n"
     ]
    }
   ],
   "source": [
    "def findLargest(a):\n",
    "    largest=a[0]\n",
    "    for i in range(len(a)):\n",
    "        if a[i]>largest:\n",
    "            largest=a[i]\n",
    "    return largest\n",
    "def inputString():\n",
    "    len=0\n",
    "    ls=[]\n",
    "    len=int(input(\"Enter the length of the string\"))\n",
    "    for i in range(0,len):\n",
    "        ele=int(input(\"Enter the {0} element\".format(i)))\n",
    "        ls.append(ele)\n",
    "    return ls\n",
    "def findLargestUsingInbuilt(a):\n",
    "    return max(a)\n",
    "def findLargestUsingSort(a):\n",
    "    a.sort()\n",
    "    return a[len(a)-1]\n",
    "list_input=inputString()\n",
    "largest=findLargest(list_input)\n",
    "maximum=findLargestUsingInbuilt(list_input)\n",
    "maxi=findLargestUsingSort(list_input)\n",
    "print(\"The Largest number in the list is = \",largest)\n",
    "print(\"The Largest number in the list using inbuilt function is = \",maximum)\n",
    "print(\"The Largest number in the list using sort function is = \",maxi)"
   ]
  },
  {
   "cell_type": "markdown",
   "metadata": {},
   "source": [
    "### Write a Python program to find second largest number in a list?"
   ]
  },
  {
   "cell_type": "code",
   "execution_count": 1,
   "metadata": {},
   "outputs": [
    {
     "name": "stdout",
     "output_type": "stream",
     "text": [
      "Enter the length of the string4\n",
      "Enter the 0 element32\n",
      "Enter the 1 element67\n",
      "Enter the 2 element88\n",
      "Enter the 3 element90\n",
      "The second Largest number in the list is =  88\n",
      "The second Largest number in the list using sort function is =  88\n"
     ]
    }
   ],
   "source": [
    "def findSecondLargest(a):\n",
    "    largest=max(a[0],a[1])\n",
    "    secondLargest=min(a[0],a[1])\n",
    "    for i in range(2,len(a)):\n",
    "        if a[i]>largest:\n",
    "            secondLargest=largest\n",
    "            largest=a[i]\n",
    "        elif a[i]>secondLargest and largest !=a [i]:\n",
    "            secondLargest=a[i]\n",
    "    return secondLargest\n",
    "def inputString():\n",
    "    len=0\n",
    "    ls=[]\n",
    "    len=int(input(\"Enter the length of the string\"))\n",
    "    for i in range(0,len):\n",
    "        ele=int(input(\"Enter the {0} element\".format(i)))\n",
    "        ls.append(ele)\n",
    "    return ls\n",
    "# def findSecondLargestUsingInbuilt(a):\n",
    "#     return max(a)\n",
    "def findSecondLargestUsingSort(a):\n",
    "    a.sort()\n",
    "    return a[-2]\n",
    "list_input=inputString()\n",
    "secondlargest=findSecondLargest(list_input)\n",
    "# secondmaximum=findLargestUsingInbuilt(list_input)\n",
    "secondmaxi=findSecondLargestUsingSort(list_input)\n",
    "print(\"The second Largest number in the list is = \",secondlargest)\n",
    "#print(\"The Largest number in the list using inbuilt function is = \",maximum)\n",
    "print(\"The second Largest number in the list using sort function is = \",secondmaxi)"
   ]
  },
  {
   "cell_type": "markdown",
   "metadata": {},
   "source": [
    "### 6. Write a Python program to find N largest elements from a list?"
   ]
  },
  {
   "cell_type": "code",
   "execution_count": 4,
   "metadata": {},
   "outputs": [
    {
     "name": "stdout",
     "output_type": "stream",
     "text": [
      "Enter the length of the string5\n",
      "Enter the 0 element1\n",
      "Enter the 1 element2\n",
      "Enter the 2 element3\n",
      "Enter the 3 element4\n",
      "Enter the 4 element6\n",
      "Enter the Nth largest number2\n",
      "The 2 largest number is = 4\n"
     ]
    }
   ],
   "source": [
    "def findNlargest(a,n):\n",
    "    a.sort()\n",
    "    return a[-n]\n",
    "def inputString():\n",
    "    len=0\n",
    "    ls=[]\n",
    "    len=int(input(\"Enter the length of the string\"))\n",
    "    for i in range(0,len):\n",
    "        ele=int(input(\"Enter the {0} element\".format(i)))\n",
    "        ls.append(ele)\n",
    "    return ls\n",
    "\n",
    "list_input=inputString()\n",
    "n=int(input(\"Enter the Nth largest number\"))\n",
    "Nlargest=findNlargest(list_input,n)\n",
    "print(\"The {0} largest number is = {1}\".format(n,Nlargest))"
   ]
  },
  {
   "cell_type": "markdown",
   "metadata": {},
   "source": [
    " ### 7. Write a Python program to print even numbers in a list?"
   ]
  },
  {
   "cell_type": "code",
   "execution_count": 6,
   "metadata": {},
   "outputs": [
    {
     "name": "stdout",
     "output_type": "stream",
     "text": [
      "Enter the length of the string5\n",
      "Enter the 0 element4\n",
      "Enter the 1 element4\n",
      "Enter the 2 element3\n",
      "Enter the 3 element3\n",
      "Enter the 4 element2\n",
      "4\n",
      "4\n",
      "2\n"
     ]
    }
   ],
   "source": [
    "def PrintEven(a):\n",
    "    for i in a:\n",
    "        if i % 2==0:\n",
    "            print(i)\n",
    "def inputString():\n",
    "    len=0\n",
    "    ls=[]\n",
    "    len=int(input(\"Enter the length of the string\"))\n",
    "    for i in range(0,len):\n",
    "        ele=int(input(\"Enter the {0} element\".format(i)))\n",
    "        ls.append(ele)\n",
    "    return ls\n",
    "input_list=inputString()\n",
    "PrintEven(input_list)"
   ]
  },
  {
   "cell_type": "markdown",
   "metadata": {},
   "source": [
    "### 8. Write a Python program to print odd numbers in a List?"
   ]
  },
  {
   "cell_type": "code",
   "execution_count": 8,
   "metadata": {},
   "outputs": [
    {
     "name": "stdout",
     "output_type": "stream",
     "text": [
      "Enter the length of the string5\n",
      "Enter the 0 element1\n",
      "Enter the 1 element2\n",
      "Enter the 2 element3\n",
      "Enter the 3 element4\n",
      "Enter the 4 element6\n",
      "1\n",
      "3\n"
     ]
    }
   ],
   "source": [
    "def PrintOdd(a):\n",
    "    for i in a:\n",
    "        if i % 2!=0:\n",
    "            print(i)\n",
    "def inputString():\n",
    "    len=0\n",
    "    ls=[]\n",
    "    len=int(input(\"Enter the length of the string\"))\n",
    "    for i in range(0,len):\n",
    "        ele=int(input(\"Enter the {0} element\".format(i)))\n",
    "        ls.append(ele)\n",
    "    return ls\n",
    "input_list=inputString()\n",
    "PrintOdd(input_list)"
   ]
  },
  {
   "cell_type": "markdown",
   "metadata": {},
   "source": [
    "### 11. Write a Python program to Count occurrences of an element in a list?"
   ]
  },
  {
   "cell_type": "code",
   "execution_count": null,
   "metadata": {},
   "outputs": [
    {
     "name": "stdout",
     "output_type": "stream",
     "text": [
      "Enter the length of the string45\n",
      "Enter the 0 element6\n"
     ]
    }
   ],
   "source": [
    "def countEle(a,element):\n",
    "    count=0\n",
    "    for i in a:\n",
    "        if i == element:\n",
    "            count+=1\n",
    "    return count\n",
    "def inputString():\n",
    "    len=0\n",
    "    ls=[]\n",
    "    len=int(input(\"Enter the length of the string\"))\n",
    "    for i in range(0,len):\n",
    "        ele=int(input(\"Enter the {0} element\".format(i)))\n",
    "        ls.append(ele)\n",
    "    return ls\n",
    "input_list=inputString()\n",
    "element=int(input(\"Enter the element\"))\n",
    "count=countEle(input_list,element)\n",
    "print(\"The occurences of {0} in the list is {1}\".format(element,count))"
   ]
  },
  {
   "cell_type": "markdown",
   "metadata": {},
   "source": [
    "### 10. Write a Python program to Cloning or Copying a list?"
   ]
  },
  {
   "cell_type": "code",
   "execution_count": 7,
   "metadata": {},
   "outputs": [
    {
     "name": "stdout",
     "output_type": "stream",
     "text": [
      "1\n",
      "2\n",
      "3\n",
      "4\n",
      "5\n",
      "Enter the length of the string5\n",
      "Enter the 0 element6\n",
      "Enter the 1 element7\n",
      "Enter the 2 element8\n",
      "Enter the 3 element1\n",
      "Enter the 4 element2\n",
      "6\n",
      "7\n",
      "8\n",
      "1\n",
      "2\n"
     ]
    }
   ],
   "source": [
    "def inputString():\n",
    "    len=0\n",
    "    ls=[]\n",
    "    len=int(input(\"Enter the length of the string\"))\n",
    "    for i in range(0,len):\n",
    "        ele=int(input(\"Enter the {0} element\".format(i)))\n",
    "        ls.append(ele)\n",
    "    return ls\n",
    "input_list=inputString()\n",
    "copied_list=input_list.copy()\n",
    "for i in copied_list:\n",
    "    print(i)"
   ]
  },
  {
   "cell_type": "markdown",
   "metadata": {},
   "source": [
    "### 9. Write a Python program to Remove empty List from List?"
   ]
  },
  {
   "cell_type": "code",
   "execution_count": 9,
   "metadata": {},
   "outputs": [
    {
     "name": "stdout",
     "output_type": "stream",
     "text": [
      "List before removal = [1, 2, 3, [], [5, 6], [], [], 10, 11]\n",
      "List after removal = [1, 2, 3, [5, 6], 10, 11]\n"
     ]
    }
   ],
   "source": [
    "input_list=[1,2,3,[],[5,6],[],[],10,11]\n",
    "print(\"List before removal =\", str(input_list))\n",
    "new_ls=[i for i in input_list if i != []]\n",
    "print(\"List after removal =\", str(new_ls))"
   ]
  },
  {
   "cell_type": "code",
   "execution_count": null,
   "metadata": {},
   "outputs": [],
   "source": []
  }
 ],
 "metadata": {
  "kernelspec": {
   "display_name": "Python 3",
   "language": "python",
   "name": "python3"
  },
  "language_info": {
   "codemirror_mode": {
    "name": "ipython",
    "version": 3
   },
   "file_extension": ".py",
   "mimetype": "text/x-python",
   "name": "python",
   "nbconvert_exporter": "python",
   "pygments_lexer": "ipython3",
   "version": "3.8.5"
  }
 },
 "nbformat": 4,
 "nbformat_minor": 4
}
