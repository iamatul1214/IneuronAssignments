{
 "cells": [
  {
   "cell_type": "markdown",
   "metadata": {},
   "source": [
    "### 1.Write a Python program to convert kilometers to miles?"
   ]
  },
  {
   "cell_type": "code",
   "execution_count": 7,
   "metadata": {},
   "outputs": [
    {
     "name": "stdout",
     "output_type": "stream",
     "text": [
      "Enter the distance in kilometers5\n",
      "5.00 kilometers is equal to 3.11 miles\n"
     ]
    }
   ],
   "source": [
    "kms=float(input(\"Enter the distance in kilometers\"))\n",
    "miles=kms*0.6213\n",
    "print(\"%0.2f kilometers is equal to %0.2f miles\"%(kms,miles))"
   ]
  },
  {
   "cell_type": "markdown",
   "metadata": {},
   "source": [
    "### 2.\tWrite a Python program to convert Celsius to Fahrenheit? "
   ]
  },
  {
   "cell_type": "code",
   "execution_count": 13,
   "metadata": {},
   "outputs": [
    {
     "name": "stdout",
     "output_type": "stream",
     "text": [
      "Enter temperature in celsius37.9\n",
      "37.90 temperature in celsius is equals to 100.22 in fahrenheit\n"
     ]
    }
   ],
   "source": [
    "cel=float(input(\"Enter temperature in celsius\"))\n",
    "faren=(cel*9/5)+32\n",
    "# print(\"Temperature in celsius = \",cel)\n",
    "# print(\"Temperature in fahrenheit = \",faren)\n",
    "print(\"%0.2f temperature in celsius is equals to %0.2f in fahrenheit\"%(cel,faren))"
   ]
  },
  {
   "cell_type": "markdown",
   "metadata": {},
   "source": [
    "### 3.\tWrite a Python program to display calendar? "
   ]
  },
  {
   "cell_type": "code",
   "execution_count": 19,
   "metadata": {},
   "outputs": [
    {
     "name": "stdout",
     "output_type": "stream",
     "text": [
      "Enter year2024\n",
      "Enter month11\n",
      "   November 2024\n",
      "Mo Tu We Th Fr Sa Su\n",
      "             1  2  3\n",
      " 4  5  6  7  8  9 10\n",
      "11 12 13 14 15 16 17\n",
      "18 19 20 21 22 23 24\n",
      "25 26 27 28 29 30\n",
      "\n"
     ]
    }
   ],
   "source": [
    "import calendar\n",
    "yy=int(input(\"Enter year\"))\n",
    "mm=int(input(\"Enter month\"))\n",
    "print(calendar.month(yy,mm))"
   ]
  },
  {
   "cell_type": "markdown",
   "metadata": {},
   "source": [
    "### 4.\tWrite a Python program to solve quadratic equation?"
   ]
  },
  {
   "cell_type": "code",
   "execution_count": 24,
   "metadata": {},
   "outputs": [
    {
     "name": "stdout",
     "output_type": "stream",
     "text": [
      "Enter value of a4\n",
      "Enter value of b6\n",
      "Enter value of c2\n",
      "The solutions of the quadartic equation are (-1+0j) and (-0.5+0j)\n"
     ]
    }
   ],
   "source": [
    "## Quadratic equation= ax**2 + bx + c = 0\n",
    "\n",
    "import cmath\n",
    "a=int(input(\"Enter value of a\"))\n",
    "b=int(input(\"Enter value of b\"))\n",
    "c=int(input(\"Enter value of c\"))\n",
    "\n",
    "x=(b**2)-(4*a*c)\n",
    "\n",
    "solution1=(-b-cmath.sqrt(x))/(2*a)\n",
    "solution2=(-b+cmath.sqrt(x))/(2*a)\n",
    "\n",
    "print(\"The solutions of the quadartic equation are {0} and {1}\".format(solution1,solution2))\n"
   ]
  },
  {
   "cell_type": "markdown",
   "metadata": {},
   "source": [
    "### 5.\tWrite a Python program to swap two variables without temp variable?"
   ]
  },
  {
   "cell_type": "code",
   "execution_count": 34,
   "metadata": {},
   "outputs": [
    {
     "name": "stdout",
     "output_type": "stream",
     "text": [
      "enter first value5\n",
      "enter second value6\n",
      "The value of a is 5 and b is 6 before swapping\n",
      "The value of a is 6 and b is 5 after swapping\n"
     ]
    }
   ],
   "source": [
    "a=int(input(\"enter first value\"))\n",
    "b=int(input(\"enter second value\"))\n",
    "print(\"The value of a is {0} and b is {1} before swapping\".format(a,b))\n",
    "a,b=b,a\n",
    "print(\"The value of a is {0} and b is {1} after swapping\".format(a,b))"
   ]
  },
  {
   "cell_type": "code",
   "execution_count": null,
   "metadata": {},
   "outputs": [],
   "source": []
  }
 ],
 "metadata": {
  "kernelspec": {
   "display_name": "Python 3",
   "language": "python",
   "name": "python3"
  },
  "language_info": {
   "codemirror_mode": {
    "name": "ipython",
    "version": 3
   },
   "file_extension": ".py",
   "mimetype": "text/x-python",
   "name": "python",
   "nbconvert_exporter": "python",
   "pygments_lexer": "ipython3",
   "version": "3.8.5"
  }
 },
 "nbformat": 4,
 "nbformat_minor": 4
}
